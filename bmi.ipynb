{
 "cells": [
  {
   "cell_type": "code",
   "execution_count": 3,
   "metadata": {},
   "outputs": [
    {
     "name": "stdout",
     "output_type": "stream",
     "text": [
      "Hello, Otim. Welcome to our Calculator!\n"
     ]
    }
   ],
   "source": [
    "print('Hello, Otim. Welcome to our Calculator!')"
   ]
  },
  {
   "cell_type": "code",
   "execution_count": 6,
   "metadata": {},
   "outputs": [
    {
     "name": "stdout",
     "output_type": "stream",
     "text": [
      "Gerison comes from Uganda\n"
     ]
    }
   ],
   "source": [
    "name = \"Gerison\"\n",
    "country = \"Uganda\"\n",
    "print(name + \" comes from \" + country )"
   ]
  },
  {
   "cell_type": "code",
   "execution_count": 7,
   "metadata": {},
   "outputs": [],
   "source": [
    "#float datatype\n",
    "height = 1.8 \n",
    "#int datatype\n",
    "weight = 100\n",
    "#boolean datatype\n",
    "isOverweight =  False\n",
    "#string datatype\n",
    "result = \"Yes you are\""
   ]
  },
  {
   "cell_type": "code",
   "execution_count": 9,
   "metadata": {},
   "outputs": [
    {
     "data": {
      "text/plain": [
       "str"
      ]
     },
     "execution_count": 9,
     "metadata": {},
     "output_type": "execute_result"
    }
   ],
   "source": [
    "#ID types of datatypes\n",
    "type(height)\n",
    "type(weight)\n",
    "type(isOverweight)\n",
    "type(result)"
   ]
  },
  {
   "cell_type": "code",
   "execution_count": 12,
   "metadata": {},
   "outputs": [],
   "source": [
    "#There are 2 types of operators i.e. assignment and arithmetic which represent mathematical operations\n",
    "sum = 94 + 104 "
   ]
  },
  {
   "cell_type": "code",
   "execution_count": 16,
   "metadata": {},
   "outputs": [
    {
     "name": "stdout",
     "output_type": "stream",
     "text": [
      "30\n"
     ]
    },
    {
     "data": {
      "text/plain": [
       "60"
      ]
     },
     "execution_count": 16,
     "metadata": {},
     "output_type": "execute_result"
    }
   ],
   "source": [
    "sum = 23 +7 \n",
    "print(sum)\n",
    "sum1 = sum + sum\n",
    "sum1"
   ]
  },
  {
   "cell_type": "code",
   "execution_count": 10,
   "metadata": {},
   "outputs": [
    {
     "data": {
      "text/plain": [
       "15"
      ]
     },
     "execution_count": 10,
     "metadata": {},
     "output_type": "execute_result"
    }
   ],
   "source": [
    "x = 5\n",
    "x += 10\n",
    "x -= 10\n",
    "x /= 2\n",
    "x *= 2\n",
    "x"
   ]
  },
  {
   "cell_type": "code",
   "execution_count": 12,
   "metadata": {},
   "outputs": [
    {
     "data": {
      "text/plain": [
       "datetime.date(2022, 6, 14)"
      ]
     },
     "execution_count": 12,
     "metadata": {},
     "output_type": "execute_result"
    }
   ],
   "source": [
    "from datetime import date\n",
    "date.today()"
   ]
  },
  {
   "cell_type": "code",
   "execution_count": 13,
   "metadata": {},
   "outputs": [
    {
     "name": "stdout",
     "output_type": "stream",
     "text": [
      "Today is: 2022-06-14\n"
     ]
    }
   ],
   "source": [
    "print(\"Today is: \" + str(date.today()))"
   ]
  },
  {
   "cell_type": "code",
   "execution_count": 15,
   "metadata": {},
   "outputs": [
    {
     "name": "stdout",
     "output_type": "stream",
     "text": [
      "Gerison comes from Germany\n"
     ]
    }
   ],
   "source": [
    "name = input(\"Enter Your Name: \")\n",
    "country = input(\"Enter Your Country: \")\n",
    "print(name + \" comes from \" + country )"
   ]
  },
  {
   "cell_type": "markdown",
   "metadata": {},
   "source": [
    "BMI Calculator"
   ]
  },
  {
   "cell_type": "code",
   "execution_count": 25,
   "metadata": {},
   "outputs": [
    {
     "name": "stdout",
     "output_type": "stream",
     "text": [
      "Welcome to our Calculator\n",
      "30.864197530864196\n"
     ]
    }
   ],
   "source": [
    "print(\"Welcome to our Calculator\")\n",
    "weight = float(input(\"Enter Your Weight(Kgs): \"))\n",
    "height = float(input(\"Enter Your Height(m): \"))\n",
    "BMI = weight / (height * height)\n",
    "print(BMI)\n"
   ]
  },
  {
   "cell_type": "code",
   "execution_count": 42,
   "metadata": {},
   "outputs": [
    {
     "name": "stdout",
     "output_type": "stream",
     "text": [
      "A is greater than B and B is less than C\n"
     ]
    }
   ],
   "source": [
    "#IFELSE\n",
    "a = 13\n",
    "b = 15\n",
    "c = 10\n",
    "\n",
    "if a > b:\n",
    "    if b > c:\n",
    "        print(\"A is greater than B and B is greater than C\")\n",
    "    else:\n",
    "        print(\"A is greater than B and B is less than C\")\n",
    "elif a==b:\n",
    "    print(\"A is equal to B\")\n",
    "else:\n",
    "    print(\"A is less than B\")"
   ]
  },
  {
   "cell_type": "code",
   "execution_count": 49,
   "metadata": {},
   "outputs": [
    {
     "name": "stdout",
     "output_type": "stream",
     "text": [
      "Welcome to our Calculator\n",
      "30.864197530864196\n",
      "Very OverWeight\n"
     ]
    }
   ],
   "source": [
    "print(\"Welcome to our Calculator\")\n",
    "weight = float(input(\"Enter Your Weight(Kgs): \"))\n",
    "height = float(input(\"Enter Your Height(m): \"))\n",
    "BMI = weight / (height * height)\n",
    "print(BMI)\n",
    "\n",
    "if (BMI > 0):\n",
    "    if (BMI <= 18):\n",
    "        print(\"Very UnderWeight\")\n",
    "    elif(BMI <= 18.5):\n",
    "        print(\"UnderWeight\")\n",
    "    elif(BMI <= 25):\n",
    "        print(\"Healthy\")\n",
    "    elif(BMI <= 30):\n",
    "        print(\"OverWeight\")\n",
    "    else:\n",
    "        print(\"Very OverWeight\")\n",
    "else:\n",
    "    print(\"No Value Entered\")"
   ]
  }
 ],
 "metadata": {
  "interpreter": {
   "hash": "95966e9853e06c6b205ef16e4098e647e4f2b86eb2d0092e35511c87feb6a5ad"
  },
  "kernelspec": {
   "display_name": "Python 3.9.7 ('base')",
   "language": "python",
   "name": "python3"
  },
  "language_info": {
   "codemirror_mode": {
    "name": "ipython",
    "version": 3
   },
   "file_extension": ".py",
   "mimetype": "text/x-python",
   "name": "python",
   "nbconvert_exporter": "python",
   "pygments_lexer": "ipython3",
   "version": "3.9.7"
  },
  "orig_nbformat": 4
 },
 "nbformat": 4,
 "nbformat_minor": 2
}
